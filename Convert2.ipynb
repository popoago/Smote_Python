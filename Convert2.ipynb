{
 "cells": [
  {
   "cell_type": "code",
   "execution_count": 125,
   "metadata": {
    "collapsed": true
   },
   "outputs": [],
   "source": [
    "import pandas as pd\n",
    "import numpy as np\n",
    "from pandas import DataFrame,Series\n",
    "from sklearn.neighbors import NearestNeighbors\n",
    "import random\n",
    "import math"
   ]
  },
  {
   "cell_type": "code",
   "execution_count": 126,
   "metadata": {
    "collapsed": false
   },
   "outputs": [
    {
     "name": "stdout",
     "output_type": "stream",
     "text": [
      "<class 'pandas.core.frame.DataFrame'>\n",
      "RangeIndex: 8294 entries, 0 to 8293\n",
      "Data columns (total 24 columns):\n",
      "Customer                         8294 non-null object\n",
      "State                            8294 non-null object\n",
      "Customer Lifetime Value          8294 non-null float64\n",
      "Response                         8294 non-null object\n",
      "Coverage                         8294 non-null object\n",
      "Education                        8294 non-null object\n",
      "Effective To Date                8294 non-null object\n",
      "EmploymentStatus                 8293 non-null object\n",
      "Gender                           8293 non-null object\n",
      "Income                           8293 non-null float64\n",
      "Location Code                    8293 non-null object\n",
      "Marital Status                   8293 non-null object\n",
      "Monthly Premium Auto             8293 non-null float64\n",
      "Months Since Last Claim          8293 non-null float64\n",
      "Months Since Policy Inception    8293 non-null float64\n",
      "Number of Open Complaints        8293 non-null float64\n",
      "Number of Policies               8293 non-null float64\n",
      "Policy Type                      8293 non-null object\n",
      "Policy                           8293 non-null object\n",
      "Renew Offer Type                 8293 non-null object\n",
      "Sales Channel                    8293 non-null object\n",
      "Total Claim Amount               8293 non-null float64\n",
      "Vehicle Class                    8293 non-null object\n",
      "Vehicle Size                     8293 non-null object\n",
      "dtypes: float64(8), object(16)\n",
      "memory usage: 1.5+ MB\n"
     ]
    }
   ],
   "source": [
    "full.info()"
   ]
  },
  {
   "cell_type": "code",
   "execution_count": 127,
   "metadata": {
    "collapsed": true
   },
   "outputs": [],
   "source": [
    "full = pd.read_excel(\"Round2_Dataset_G1.xlsx\")\n",
    "data = full.loc[full[\"Response\"]==\"Yes\",]"
   ]
  },
  {
   "cell_type": "code",
   "execution_count": 128,
   "metadata": {
    "collapsed": true
   },
   "outputs": [],
   "source": [
    "cont = data.describe(0).columns\n",
    "cat = data.select_dtypes([object]).columns\n",
    "median = np.median(np.std(data[cont]))\n",
    "cat2 = cat.drop([\"Effective To Date\",\"Customer\"])"
   ]
  },
  {
   "cell_type": "code",
   "execution_count": 129,
   "metadata": {
    "collapsed": true
   },
   "outputs": [],
   "source": [
    "final = data\n",
    "for i in cat.drop([\"Effective To Date\",\"Customer\"])[1:]:\n",
    "    final = pd.concat([final,median*pd.get_dummies(data[i],drop_first=True)],axis=1)\n",
    "final.reset_index(inplace=True,drop=True)\n",
    "final.drop(cat,axis=1,inplace=True)"
   ]
  },
  {
   "cell_type": "code",
   "execution_count": 130,
   "metadata": {
    "collapsed": true
   },
   "outputs": [],
   "source": [
    "from sklearn.neighbors import NearestNeighbors\n",
    "def newnearest(x):\n",
    "    nbrs = NearestNeighbors(n_neighbors=6,algorithm=\"ball_tree\",leaf_size=100,metric=\"euclidean\")\n",
    "    nbrs.fit(x)\n",
    "    return nbrs.kneighbors(x,return_distance=False)"
   ]
  },
  {
   "cell_type": "code",
   "execution_count": 131,
   "metadata": {
    "collapsed": false
   },
   "outputs": [],
   "source": [
    "index = newnearest(final)\n",
    "index = index.T[1:].T"
   ]
  },
  {
   "cell_type": "code",
   "execution_count": 134,
   "metadata": {
    "collapsed": false
   },
   "outputs": [],
   "source": [
    "def synthetic(n,sample,t):\n",
    "    global index\n",
    "    global data\n",
    "    global full\n",
    "    if n<100:\n",
    "        t = int(t*(n/100))\n",
    "        n=100\n",
    "    n=n//100    \n",
    "    sample = sample.head(t)\n",
    "    it=0\n",
    "    \n",
    "    select = [(random.sample(list(value),2)) for value in index]\n",
    "    for i,x in zip(sample.iterrows(),select):\n",
    "        dic = {}\n",
    "    \n",
    "    \n",
    "        for y in x:\n",
    "            k=0\n",
    "            gap = random.randrange(0,10)/10\n",
    "            dic = dict(gap*(i[1][cont]-sample[cont].iloc[y]) +i[1][cont])\n",
    "    \n",
    "    \n",
    "            ind = data.iloc[index[it]][cat2].mode().iloc[0].T.index\n",
    "            val = data.iloc[index[it]][cat2].mode().iloc[0].T.values      \n",
    "            for l,m in zip(ind,val):\n",
    "                try:\n",
    "                    if math.isnan(m):\n",
    "                        m = i[1][l]\n",
    "                except TypeError:\n",
    "                    pass\n",
    "                finally:\n",
    "                    dic[l]=m\n",
    "            \n",
    "            dic[\"Customer\"] = \"SYN\" + str(k) + str(it)\n",
    "            dic[\"Effective To Date\"] = data.iloc[it][\"Effective To Date\"]\n",
    "            k+=1\n",
    "            full = full.append(Series(dic),ignore_index=True)\n",
    "        \n",
    "        it += 1\n",
    "        \n",
    "        "
   ]
  },
  {
   "cell_type": "code",
   "execution_count": 135,
   "metadata": {
    "collapsed": false
   },
   "outputs": [],
   "source": [
    "t=final.shape[0]\n",
    "n = 200\n",
    "send_data= data.drop([\"Effective To Date\",\"Customer\"],axis=1).reset_index(drop=True)\n",
    "synthetic(n,send_data,t)"
   ]
  },
  {
   "cell_type": "code",
   "execution_count": 136,
   "metadata": {
    "collapsed": false
   },
   "outputs": [
    {
     "data": {
      "text/plain": [
       "Customer                         0\n",
       "State                            0\n",
       "Customer Lifetime Value          0\n",
       "Response                         0\n",
       "Coverage                         0\n",
       "Education                        0\n",
       "Effective To Date                0\n",
       "EmploymentStatus                 1\n",
       "Gender                           1\n",
       "Income                           1\n",
       "Location Code                    1\n",
       "Marital Status                   1\n",
       "Monthly Premium Auto             1\n",
       "Months Since Last Claim          1\n",
       "Months Since Policy Inception    1\n",
       "Number of Open Complaints        1\n",
       "Number of Policies               1\n",
       "Policy Type                      1\n",
       "Policy                           1\n",
       "Renew Offer Type                 1\n",
       "Sales Channel                    1\n",
       "Total Claim Amount               1\n",
       "Vehicle Class                    1\n",
       "Vehicle Size                     1\n",
       "dtype: int64"
      ]
     },
     "execution_count": 136,
     "metadata": {},
     "output_type": "execute_result"
    }
   ],
   "source": [
    "full.apply(lambda x: sum(x.isnull()))"
   ]
  },
  {
   "cell_type": "code",
   "execution_count": 137,
   "metadata": {
    "collapsed": true
   },
   "outputs": [],
   "source": [
    "full.to_excel(\"Round2_Output_G1_OsheenNayak.xlsx\",index=False)"
   ]
  },
  {
   "cell_type": "code",
   "execution_count": null,
   "metadata": {
    "collapsed": true
   },
   "outputs": [],
   "source": []
  }
 ],
 "metadata": {
  "kernelspec": {
   "display_name": "Python 3",
   "language": "python",
   "name": "python3"
  },
  "language_info": {
   "codemirror_mode": {
    "name": "ipython",
    "version": 3
   },
   "file_extension": ".py",
   "mimetype": "text/x-python",
   "name": "python",
   "nbconvert_exporter": "python",
   "pygments_lexer": "ipython3",
   "version": "3.5.2"
  }
 },
 "nbformat": 4,
 "nbformat_minor": 0
}
